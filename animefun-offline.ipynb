{
 "cells": [
  {
   "cell_type": "markdown",
   "metadata": {},
   "source": [
    "## 找到動畫瘋如何表示集數\n",
    "一部動畫的id會在參數中以`sn`表示  \n",
    "以[https://ani.gamer.com.tw/animeVideo.php?sn=34142](https://ani.gamer.com.tw/animeVideo.php?sn=34142)為例  \n",
    "`sn`是34142"
   ]
  },
  {
   "cell_type": "code",
   "execution_count": 27,
   "metadata": {},
   "outputs": [],
   "source": [
    "sn = '34142'"
   ]
  },
  {
   "cell_type": "markdown",
   "metadata": {},
   "source": [
    "## 觀察network流量\n",
    "先看到了`playlist.m3u8`，用ffplay播放"
   ]
  },
  {
   "cell_type": "code",
   "execution_count": 2,
   "metadata": {},
   "outputs": [
    {
     "name": "stdout",
     "output_type": "stream",
     "text": [
      "\n"
     ]
    },
    {
     "name": "stderr",
     "output_type": "stream",
     "text": [
      "ffplay version N-107626-g1368b5a725-20220731 Copyright (c) 2003-2022 the FFmpeg developers\n",
      "  built with gcc 12.1.0 (crosstool-NG 1.25.0.55_3defb7b)\n",
      "  configuration: --prefix=/ffbuild/prefix --pkg-config-flags=--static --pkg-config=pkg-config --cross-prefix=x86_64-w64-mingw32- --arch=x86_64 --target-os=mingw32 --enable-gpl --enable-version3 --disable-debug --disable-w32threads --enable-pthreads --enable-iconv --enable-libxml2 --enable-zlib --enable-libfreetype --enable-libfribidi --enable-gmp --enable-lzma --enable-fontconfig --enable-libvorbis --enable-opencl --disable-libpulse --enable-libvmaf --disable-libxcb --disable-xlib --enable-amf --enable-libaom --enable-libaribb24 --enable-avisynth --enable-libdav1d --enable-libdavs2 --disable-libfdk-aac --enable-ffnvcodec --enable-cuda-llvm --enable-frei0r --enable-libgme --enable-libass --enable-libbluray --enable-libjxl --enable-libmp3lame --enable-libopus --enable-librist --enable-libtheora --enable-libvpx --enable-libwebp --enable-lv2 --enable-libmfx --enable-libopencore-amrnb --enable-libopencore-amrwb --enable-libopenh264 --enable-libopenjpeg --enable-libopenmpt --enable-librav1e --enable-librubberband --enable-schannel --enable-sdl2 --enable-libsoxr --enable-libsrt --enable-libsvtav1 --enable-libtwolame --enable-libuavs3d --disable-libdrm --disable-vaapi --enable-libvidstab --enable-vulkan --enable-libshaderc --enable-libplacebo --enable-libx264 --enable-libx265 --enable-libxavs2 --enable-libxvid --enable-libzimg --enable-libzvbi --extra-cflags=-DLIBTWOLAME_STATIC --extra-cxxflags= --extra-ldflags=-pthread --extra-ldexeflags= --extra-libs=-lgomp --extra-version=20220731\n",
      "  libavutil      57. 30.100 / 57. 30.100\n",
      "  libavcodec     59. 40.100 / 59. 40.100\n",
      "  libavformat    59. 29.100 / 59. 29.100\n",
      "  libavdevice    59.  8.101 / 59.  8.101\n",
      "  libavfilter     8. 46.101 /  8. 46.101\n",
      "  libswscale      6.  8.101 /  6.  8.101\n",
      "  libswresample   4.  8.100 /  4.  8.100\n",
      "  libpostproc    56.  7.100 / 56.  7.100\n",
      "    nan    :  0.000 fd=   0 aq=    0KB vq=    0KB sq=    0B f=0/0   \n",
      "    nan    :  0.000 fd=   0 aq=    0KB vq=    0KB sq=    0B f=0/0   \n",
      "    nan    :  0.000 fd=   0 aq=    0KB vq=    0KB sq=    0B f=0/0   \n",
      "    nan    :  0.000 fd=   0 aq=    0KB vq=    0KB sq=    0B f=0/0   \n",
      "[hls @ 000001591f08fe40] Skip ('#EXT-X-VERSION:3')\n",
      "[hls @ 000001591f08fe40] Opening 'https://bahamut.akamaized.net/ad/welcome_to_anigamer/360p/chunklist_b600000.m3u8' for reading\n",
      "    nan    :  0.000 fd=   0 aq=    0KB vq=    0KB sq=    0B f=0/0   \n",
      "    nan    :  0.000 fd=   0 aq=    0KB vq=    0KB sq=    0B f=0/0   \n",
      "[hls @ 000001591f08fe40] Skip ('#EXT-X-VERSION:3')\n",
      "[https @ 000001591f0a1480] Opening 'https://bahamut.akamaized.net/ad/welcome_to_anigamer/540p/chunklist_b1200000.m3u8' for reading\n",
      "[hls @ 000001591f08fe40] Skip ('#EXT-X-VERSION:3')\n",
      "[https @ 000001591f0a1480] Opening 'https://bahamut.akamaized.net/ad/welcome_to_anigamer/720p/chunklist_b2000000.m3u8' for reading\n",
      "[hls @ 000001591f08fe40] Skip ('#EXT-X-VERSION:3')\n",
      "[hls @ 000001591f08fe40] Opening 'https://bahamut.akamaized.net/ad/welcome_to_anigamer/360p/key_b600000.m3u8key' for reading\n",
      "    nan    :  0.000 fd=   0 aq=    0KB vq=    0KB sq=    0B f=0/0   \n",
      "    nan    :  0.000 fd=   0 aq=    0KB vq=    0KB sq=    0B f=0/0   \n",
      "[hls @ 000001591f08fe40] Opening 'crypto+https://bahamut.akamaized.net/ad/welcome_to_anigamer/360p/media_b600000_0.ts' for reading\n",
      "    nan    :  0.000 fd=   0 aq=    0KB vq=    0KB sq=    0B f=0/0   \n",
      "    nan    :  0.000 fd=   0 aq=    0KB vq=    0KB sq=    0B f=0/0   \n",
      "    nan    :  0.000 fd=   0 aq=    0KB vq=    0KB sq=    0B f=0/0   \n",
      "    nan    :  0.000 fd=   0 aq=    0KB vq=    0KB sq=    0B f=0/0   \n",
      "[hls @ 000001591f08fe40] Opening 'https://bahamut.akamaized.net/ad/welcome_to_anigamer/540p/key_b1200000.m3u8key' for reading\n",
      "    nan    :  0.000 fd=   0 aq=    0KB vq=    0KB sq=    0B f=0/0   \n",
      "    nan    :  0.000 fd=   0 aq=    0KB vq=    0KB sq=    0B f=0/0   \n",
      "[hls @ 000001591f08fe40] Opening 'crypto+https://bahamut.akamaized.net/ad/welcome_to_anigamer/540p/media_b1200000_0.ts' for reading\n",
      "    nan    :  0.000 fd=   0 aq=    0KB vq=    0KB sq=    0B f=0/0   \n",
      "    nan    :  0.000 fd=   0 aq=    0KB vq=    0KB sq=    0B f=0/0   \n",
      "    nan    :  0.000 fd=   0 aq=    0KB vq=    0KB sq=    0B f=0/0   \n",
      "[hls @ 000001591f08fe40] Opening 'https://bahamut.akamaized.net/ad/welcome_to_anigamer/720p/key_b2000000.m3u8key' for reading\n",
      "    nan    :  0.000 fd=   0 aq=    0KB vq=    0KB sq=    0B f=0/0   \n",
      "[hls @ 000001591f08fe40] Opening 'crypto+https://bahamut.akamaized.net/ad/welcome_to_anigamer/720p/media_b2000000_0.ts' for reading\n",
      "    nan    :  0.000 fd=   0 aq=    0KB vq=    0KB sq=    0B f=0/0   \n",
      "    nan    :  0.000 fd=   0 aq=    0KB vq=    0KB sq=    0B f=0/0   \n",
      "    nan    :  0.000 fd=   0 aq=    0KB vq=    0KB sq=    0B f=0/0   \n",
      "    nan    :  0.000 fd=   0 aq=    0KB vq=    0KB sq=    0B f=0/0   \n",
      "    nan    :  0.000 fd=   0 aq=    0KB vq=    0KB sq=    0B f=0/0   \n",
      "    nan    :  0.000 fd=   0 aq=    0KB vq=    0KB sq=    0B f=0/0   \n",
      "Input #0, hls, from 'https://bahamut.akamaized.net/ad/welcome_to_anigamer/playlist.m3u8':\n",
      "  Duration: 00:00:07.04, start: 0.000000, bitrate: 0 kb/s\n",
      "  Program 0 \n",
      "    Metadata:\n",
      "      variant_bitrate : 600000\n",
      "  Stream #0:0: Video: h264 (High) ([27][0][0][0] / 0x001B), yuv420p, 640x360 [SAR 1:1 DAR 16:9], 29.97 fps, 29.97 tbr, 90k tbn\n",
      "    Metadata:\n",
      "      variant_bitrate : 600000\n",
      "  Stream #0:1: Audio: aac (LC) ([15][0][0][0] / 0x000F), 48000 Hz, stereo, fltp\n",
      "    Metadata:\n",
      "      variant_bitrate : 600000\n",
      "  Program 1 \n",
      "    Metadata:\n",
      "      variant_bitrate : 1200000\n",
      "  Stream #0:2: Video: h264 (High) ([27][0][0][0] / 0x001B), yuv420p, 960x540 [SAR 1:1 DAR 16:9], 29.97 fps, 29.97 tbr, 90k tbn\n",
      "    Metadata:\n",
      "      variant_bitrate : 1200000\n",
      "  Stream #0:3: Audio: aac (LC) ([15][0][0][0] / 0x000F), 48000 Hz, stereo, fltp\n",
      "    Metadata:\n",
      "      variant_bitrate : 1200000\n",
      "  Program 2 \n",
      "    Metadata:\n",
      "      variant_bitrate : 2000000\n",
      "  Stream #0:4: Video: h264 (High) ([27][0][0][0] / 0x001B), yuv420p, 1280x720 [SAR 1:1 DAR 16:9], 29.97 fps, 29.97 tbr, 90k tbn\n",
      "    Metadata:\n",
      "      variant_bitrate : 2000000\n",
      "  Stream #0:5: Audio: aac (LC) ([15][0][0][0] / 0x000F), 48000 Hz, stereo, fltp\n",
      "    Metadata:\n",
      "      variant_bitrate : 2000000\n",
      "   0.03 A-V: -0.033 fd=   0 aq=   18KB vq=  157KB sq=    0B f=0/0   \n",
      "   0.08 A-V: -0.023 fd=   1 aq=   18KB vq=  158KB sq=    0B f=0/0   \n",
      "   0.11 A-V: -0.037 fd=   1 aq=   19KB vq=  168KB sq=    0B f=0/0   \n",
      "   0.15 A-V: -0.029 fd=   1 aq=   18KB vq=  172KB sq=    0B f=0/0   \n",
      "   0.18 A-V: -0.021 fd=   1 aq=   18KB vq=  171KB sq=    0B f=0/0   \n",
      "   0.22 A-V: -0.029 fd=   1 aq=   18KB vq=  179KB sq=    0B f=0/0   \n",
      "   0.25 A-V: -0.023 fd=   1 aq=   19KB vq=  183KB sq=    0B f=0/0   \n",
      "   0.28 A-V: -0.029 fd=   1 aq=   18KB vq=  188KB sq=    0B f=0/0   \n",
      "   0.32 A-V: -0.028 fd=   1 aq=   19KB vq=  192KB sq=    0B f=0/0   \n",
      "   0.36 A-V: -0.022 fd=   1 aq=   18KB vq=  198KB sq=    0B f=0/0   \n",
      "   0.41 A-V: -0.027 fd=   1 aq=   18KB vq=  172KB sq=    0B f=0/0   \n",
      "   0.44 A-V: -0.027 fd=   1 aq=   19KB vq=  159KB sq=    0B f=0/0   \n",
      "   0.48 A-V: -0.026 fd=   1 aq=   18KB vq=  145KB sq=    0B f=0/0   \n",
      "   0.53 A-V: -0.026 fd=   1 aq=   19KB vq=  137KB sq=    0B f=0/0   \n",
      "   0.57 A-V: -0.031 fd=   1 aq=   18KB vq=  117KB sq=    0B f=0/0   \n",
      "[hls @ 000001591f08fe40] Opening 'crypto+https://bahamut.akamaized.net/ad/welcome_to_anigamer/360p/media_b600000_1.ts' for reading\n",
      "   0.61 A-V: -0.029 fd=   1 aq=   19KB vq=  107KB sq=    0B f=0/0   \n",
      "   0.64 A-V: -0.032 fd=   1 aq=   19KB vq=  102KB sq=    0B f=0/0   \n",
      "   0.67 A-V: -0.031 fd=   1 aq=   18KB vq=   99KB sq=    0B f=0/0   \n",
      "[hls @ 000001591f08fe40] No longer receiving playlist 1 ('https://bahamut.akamaized.net/ad/welcome_to_anigamer/540p/chunklist_b1200000.m3u8')\n",
      "[hls @ 000001591f08fe40] No longer receiving playlist 2 ('https://bahamut.akamaized.net/ad/welcome_to_anigamer/720p/chunklist_b2000000.m3u8')\n",
      "   0.71 A-V: -0.029 fd=   1 aq=   18KB vq=  123KB sq=    0B f=0/0   \n",
      "   0.73 A-V: -0.037 fd=   1 aq=   18KB vq=  128KB sq=    0B f=0/0   \n",
      "   0.77 A-V: -0.028 fd=   1 aq=   18KB vq=  129KB sq=    0B f=0/0   \n",
      "   0.81 A-V: -0.027 fd=   1 aq=   19KB vq=  132KB sq=    0B f=0/0   \n",
      "   0.84 A-V: -0.026 fd=   1 aq=   18KB vq=  133KB sq=    0B f=0/0   \n",
      "   0.88 A-V: -0.026 fd=   1 aq=   18KB vq=  134KB sq=    0B f=0/0   \n",
      "   0.90 A-V: -0.035 fd=   1 aq=   18KB vq=  135KB sq=    0B f=0/0   \n",
      "   0.93 A-V: -0.035 fd=   1 aq=   19KB vq=  137KB sq=    0B f=0/0   \n",
      "   0.96 A-V: -0.026 fd=   1 aq=   19KB vq=  137KB sq=    0B f=0/0   \n",
      "   1.00 A-V: -0.025 fd=   1 aq=   18KB vq=  138KB sq=    0B f=0/0   \n",
      "   1.05 A-V: -0.022 fd=   1 aq=   19KB vq=  134KB sq=    0B f=0/0   \n",
      "   1.07 A-V: -0.031 fd=   1 aq=   18KB vq=  133KB sq=    0B f=0/0   \n",
      "   1.10 A-V: -0.033 fd=   1 aq=   19KB vq=  131KB sq=    0B f=0/0   \n",
      "   1.14 A-V: -0.031 fd=   1 aq=   18KB vq=  130KB sq=    0B f=0/0   \n",
      "   1.17 A-V: -0.029 fd=   1 aq=   19KB vq=  132KB sq=    0B f=0/0   \n",
      "   1.20 A-V: -0.038 fd=   1 aq=   18KB vq=  129KB sq=    0B f=0/0   \n",
      "   1.23 A-V: -0.030 fd=   1 aq=   19KB vq=  127KB sq=    0B f=0/0   \n",
      "   1.27 A-V: -0.028 fd=   1 aq=   18KB vq=  119KB sq=    0B f=0/0   \n",
      "   1.31 A-V: -0.026 fd=   1 aq=   19KB vq=  116KB sq=    0B f=0/0   \n",
      "   1.34 A-V: -0.026 fd=   1 aq=   18KB vq=  113KB sq=    0B f=0/0   \n",
      "   1.37 A-V: -0.030 fd=   1 aq=   19KB vq=  110KB sq=    0B f=0/0   \n",
      "   1.39 A-V: -0.038 fd=   1 aq=   18KB vq=  112KB sq=    0B f=0/0   \n",
      "   1.43 A-V: -0.024 fd=   1 aq=   19KB vq=  109KB sq=    0B f=0/0   \n",
      "   1.47 A-V: -0.023 fd=   1 aq=   18KB vq=  105KB sq=    0B f=0/0   \n",
      "   1.50 A-V: -0.023 fd=   1 aq=   18KB vq=  101KB sq=    0B f=0/0   \n",
      "   1.53 A-V: -0.026 fd=   1 aq=   18KB vq=   97KB sq=    0B f=0/0   \n",
      "   1.57 A-V: -0.031 fd=   1 aq=   19KB vq=   90KB sq=    0B f=0/0   \n",
      "   1.61 A-V: -0.030 fd=   1 aq=   18KB vq=   80KB sq=    0B f=0/0   \n",
      "   1.64 A-V: -0.028 fd=   1 aq=   18KB vq=   81KB sq=    0B f=0/0   \n",
      "   1.68 A-V: -0.027 fd=   1 aq=   18KB vq=   78KB sq=    0B f=0/0   \n",
      "   1.71 A-V: -0.030 fd=   1 aq=   19KB vq=   75KB sq=    0B f=0/0   \n",
      "   1.73 A-V: -0.036 fd=   1 aq=   19KB vq=   77KB sq=    0B f=0/0   \n",
      "   1.78 A-V: -0.027 fd=   1 aq=   18KB vq=   72KB sq=    0B f=0/0   \n",
      "   1.81 A-V: -0.025 fd=   1 aq=   19KB vq=   71KB sq=    0B f=0/0   \n",
      "   1.83 A-V: -0.035 fd=   1 aq=   19KB vq=   70KB sq=    0B f=0/0   \n",
      "   1.87 A-V: -0.035 fd=   1 aq=   19KB vq=   69KB sq=    0B f=0/0   \n",
      "   1.90 A-V: -0.033 fd=   1 aq=   18KB vq=   68KB sq=    0B f=0/0   \n",
      "   1.94 A-V: -0.033 fd=   1 aq=   19KB vq=   67KB sq=    0B f=0/0   \n",
      "   1.98 A-V: -0.020 fd=   1 aq=   18KB vq=   65KB sq=    0B f=0/0   \n",
      "   2.01 A-V: -0.029 fd=   1 aq=   18KB vq=   64KB sq=    0B f=0/0   \n",
      "   2.04 A-V: -0.030 fd=   1 aq=   18KB vq=   63KB sq=    0B f=0/0   \n",
      "   2.08 A-V: -0.028 fd=   1 aq=   19KB vq=   62KB sq=    0B f=0/0   \n",
      "   2.11 A-V: -0.027 fd=   1 aq=   18KB vq=   61KB sq=    0B f=0/0   \n",
      "   2.14 A-V: -0.027 fd=   1 aq=   18KB vq=   61KB sq=    0B f=0/0   \n",
      "   2.17 A-V: -0.029 fd=   1 aq=   18KB vq=   60KB sq=    0B f=0/0   \n",
      "   2.20 A-V: -0.036 fd=   1 aq=   19KB vq=   61KB sq=    0B f=0/0   \n",
      "   2.24 A-V: -0.029 fd=   1 aq=   18KB vq=   57KB sq=    0B f=0/0   \n",
      "   2.28 A-V: -0.025 fd=   1 aq=   18KB vq=   56KB sq=    0B f=0/0   \n",
      "   2.31 A-V: -0.023 fd=   1 aq=   18KB vq=   54KB sq=    0B f=0/0   \n",
      "   2.34 A-V: -0.025 fd=   1 aq=   19KB vq=   52KB sq=    0B f=0/0   \n",
      "   2.37 A-V: -0.034 fd=   1 aq=   18KB vq=   51KB sq=    0B f=0/0   \n",
      "   2.41 A-V: -0.031 fd=   1 aq=   18KB vq=   50KB sq=    0B f=0/0   \n",
      "   2.45 A-V: -0.021 fd=   1 aq=   18KB vq=   50KB sq=    0B f=0/0   \n",
      "   2.49 A-V: -0.035 fd=   1 aq=   19KB vq=   52KB sq=    0B f=0/0   \n",
      "   2.54 A-V: -0.028 fd=   1 aq=   18KB vq=   50KB sq=    0B f=0/0   \n",
      "   2.59 A-V: -0.017 fd=   1 aq=   18KB vq=   50KB sq=    0B f=0/0   \n",
      "[hls @ 000001591f08fe40] Opening 'crypto+https://bahamut.akamaized.net/ad/welcome_to_anigamer/360p/media_b600000_2.ts' for reading\n",
      "   2.62 A-V: -0.026 fd=   1 aq=   18KB vq=   42KB sq=    0B f=0/0   \n",
      "   2.65 A-V: -0.028 fd=   1 aq=   18KB vq=   40KB sq=    0B f=0/0   \n",
      "   2.68 A-V: -0.038 fd=   1 aq=   18KB vq=   38KB sq=    0B f=0/0   \n",
      "   2.73 A-V: -0.029 fd=   1 aq=   19KB vq=   54KB sq=    0B f=0/0   \n",
      "   2.76 A-V: -0.027 fd=   1 aq=   18KB vq=   53KB sq=    0B f=0/0   \n",
      "   2.81 A-V: -0.026 fd=   1 aq=   19KB vq=   51KB sq=    0B f=0/0   \n",
      "   2.84 A-V: -0.034 fd=   1 aq=   18KB vq=   51KB sq=    0B f=0/0   \n",
      "   2.87 A-V: -0.033 fd=   1 aq=   18KB vq=   51KB sq=    0B f=0/0   \n",
      "   2.91 A-V: -0.032 fd=   1 aq=   18KB vq=   52KB sq=    0B f=0/0   \n",
      "   2.94 A-V: -0.032 fd=   1 aq=   19KB vq=   53KB sq=    0B f=0/0   \n",
      "   2.97 A-V: -0.023 fd=   1 aq=   18KB vq=   54KB sq=    0B f=0/0   \n",
      "   2.99 A-V: -0.032 fd=   1 aq=   18KB vq=   54KB sq=    0B f=0/0   \n",
      "   3.03 A-V: -0.032 fd=   1 aq=   20KB vq=   55KB sq=    0B f=0/0   \n",
      "   3.07 A-V: -0.034 fd=   1 aq=   19KB vq=   55KB sq=    0B f=0/0   \n",
      "   3.11 A-V: -0.028 fd=   1 aq=   19KB vq=   55KB sq=    0B f=0/0   \n",
      "   3.13 A-V: -0.036 fd=   1 aq=   18KB vq=   55KB sq=    0B f=0/0   \n",
      "   3.18 A-V: -0.029 fd=   1 aq=   19KB vq=   56KB sq=    0B f=0/0   \n",
      "   3.21 A-V: -0.024 fd=   1 aq=   18KB vq=   56KB sq=    0B f=0/0   \n",
      "   3.25 A-V: -0.021 fd=   1 aq=   18KB vq=   57KB sq=    0B f=0/0   \n",
      "   3.28 A-V: -0.021 fd=   1 aq=   18KB vq=   57KB sq=    0B f=0/0   \n",
      "   3.31 A-V: -0.030 fd=   1 aq=   19KB vq=   58KB sq=    0B f=0/0   \n",
      "   3.36 A-V: -0.035 fd=   1 aq=   19KB vq=   60KB sq=    0B f=0/0   \n",
      "   3.40 A-V: -0.023 fd=   1 aq=   18KB vq=   61KB sq=    0B f=0/0   \n",
      "   3.44 A-V: -0.021 fd=   1 aq=   19KB vq=   62KB sq=    0B f=0/0   \n",
      "   3.46 A-V: -0.031 fd=   1 aq=   18KB vq=   62KB sq=    0B f=0/0   \n",
      "   3.51 A-V: -0.028 fd=   1 aq=   18KB vq=   61KB sq=    0B f=0/0   \n",
      "   3.54 A-V: -0.027 fd=   1 aq=   18KB vq=   62KB sq=    0B f=0/0   \n",
      "   3.58 A-V: -0.029 fd=   1 aq=   19KB vq=   62KB sq=    0B f=0/0   \n",
      "   3.61 A-V: -0.026 fd=   1 aq=   18KB vq=   53KB sq=    0B f=0/0   \n",
      "   3.64 A-V: -0.035 fd=   1 aq=   18KB vq=   64KB sq=    0B f=0/0   \n",
      "   3.68 A-V: -0.022 fd=   1 aq=   18KB vq=   65KB sq=    0B f=0/0   \n",
      "   3.72 A-V: -0.021 fd=   1 aq=   18KB vq=   65KB sq=    0B f=0/0   \n",
      "   3.75 A-V: -0.022 fd=   1 aq=   18KB vq=   65KB sq=    0B f=0/0   \n",
      "   3.78 A-V: -0.029 fd=   1 aq=   18KB vq=   65KB sq=    0B f=0/0   \n",
      "   3.81 A-V: -0.029 fd=   1 aq=   19KB vq=   65KB sq=    0B f=0/0   \n",
      "   3.85 A-V: -0.021 fd=   1 aq=   18KB vq=   66KB sq=    0B f=0/0   \n",
      "   3.88 A-V: -0.020 fd=   1 aq=   18KB vq=   66KB sq=    0B f=0/0   \n",
      "   3.92 A-V: -0.021 fd=   1 aq=   18KB vq=   66KB sq=    0B f=0/0   \n",
      "   3.94 A-V: -0.032 fd=   1 aq=   19KB vq=   66KB sq=    0B f=0/0   \n",
      "   3.98 A-V: -0.029 fd=   1 aq=   18KB vq=   66KB sq=    0B f=0/0   \n",
      "   4.01 A-V: -0.032 fd=   1 aq=   19KB vq=   66KB sq=    0B f=0/0   \n",
      "   4.06 A-V: -0.029 fd=   1 aq=   19KB vq=   68KB sq=    0B f=0/0   \n",
      "   4.10 A-V: -0.037 fd=   1 aq=   18KB vq=   66KB sq=    0B f=0/0   \n",
      "   4.13 A-V: -0.037 fd=   1 aq=   19KB vq=   68KB sq=    0B f=0/0   \n",
      "   4.17 A-V: -0.026 fd=   1 aq=   18KB vq=   67KB sq=    0B f=0/0   \n",
      "   4.20 A-V: -0.023 fd=   1 aq=   19KB vq=   67KB sq=    0B f=0/0   \n",
      "   4.24 A-V: -0.024 fd=   1 aq=   18KB vq=   67KB sq=    0B f=0/0   \n",
      "   4.27 A-V: -0.032 fd=   1 aq=   18KB vq=   65KB sq=    0B f=0/0   \n",
      "[tls @ 0000015928e61b80] Failed to send close message\n",
      "[tls @ 000001591f0bc9c0] Failed to send close message\n",
      "[tls @ 000001591f093dc0] Failed to send close message\n"
     ]
    }
   ],
   "source": [
    "! ffplay -i https://bahamut.akamaized.net/ad/welcome_to_anigamer/playlist.m3u8"
   ]
  },
  {
   "cell_type": "markdown",
   "metadata": {},
   "source": [
    "但顯然這個播放清單是歡迎畫面的，不是動畫本體"
   ]
  },
  {
   "cell_type": "markdown",
   "metadata": {},
   "source": [
    "觀察有可能的API\n",
    "- `getdeviceid.php`\n",
    "- `video.php`\n",
    "- `token.php`"
   ]
  },
  {
   "cell_type": "markdown",
   "metadata": {},
   "source": [
    "## 初始化工作階段\n",
    "後續會呼叫的API有一部分會認cookie，且都會認header，這些在開發的時候會一個一個測試，但是這邊就先寫結論方便展示  \n",
    "header會認以下幾個：\n",
    "- user-agent\n",
    "- referer\n",
    "- origin"
   ]
  },
  {
   "cell_type": "code",
   "execution_count": 26,
   "metadata": {},
   "outputs": [
    {
     "name": "stdout",
     "output_type": "stream",
     "text": [
      "<RequestsCookieJar[]>\n"
     ]
    }
   ],
   "source": [
    "import requests\n",
    "\n",
    "header = {'user-agent': 'Mozilla/5.0 (Windows NT 10.0; Win64; x64) AppleWebKit/537.36 (KHTML, like Gecko) Chrome/91.0.4472.124 Safari/537.36 Edg/91.0.864.70', 'referer': 'https://ani.gamer.com.tw/animeVideo.php', 'origin': 'https://ani.gamer.com.tw'}\n",
    "session = requests.session()\n",
    "session.headers.update(header)\n",
    "print(session.cookies)"
   ]
  },
  {
   "cell_type": "markdown",
   "metadata": {},
   "source": [
    "## 觀看廣告\n",
    "沒有買會員的話就需要看30秒廣告才能開始看動畫，但這個30秒怎麼計數的呢？  \n",
    "開始廣告之後會發現一個API呼叫\n",
    "- `videoCastcishu.php?s=...&sn=37780`\n",
    "\n",
    "廣告結束後也有一個呼叫\n",
    "- `videoCastcishu.php?s=...&sn=37780&ad=end`\n",
    "\n",
    "如果是客戶端計數，直接無視就好，如果是伺服器端計數，就乖乖等"
   ]
  },
  {
   "cell_type": "markdown",
   "metadata": {},
   "source": [
    "### 取得廣告的ID\n",
    "生成廣告ID是直接從原始碼幹出來用python復刻的，可以當作魔法"
   ]
  },
  {
   "cell_type": "code",
   "execution_count": 29,
   "metadata": {},
   "outputs": [
    {
     "name": "stdout",
     "output_type": "stream",
     "text": [
      "{'adsid': '218406', 'cookie': {'ckBahaAd': '------9---------'}}\n"
     ]
    }
   ],
   "source": [
    "import functions\n",
    "ad_data = functions.get_major_ad()\n",
    "session.cookies.update(ad_data['cookie'])\n",
    "print(ad_data)"
   ]
  },
  {
   "cell_type": "markdown",
   "metadata": {},
   "source": [
    "### 模擬看廣告\n",
    "將廣告ID送出去，假裝自己開始看了廣告，計時之後再送看完了的封包  \n",
    "廣告原本是30秒，但實際上伺服器端計時約25秒"
   ]
  },
  {
   "cell_type": "code",
   "execution_count": 30,
   "metadata": {},
   "outputs": [
    {
     "name": "stdout",
     "output_type": "stream",
     "text": [
      "start ad\n",
      "ad 1s remainingg\n",
      "end ad\n"
     ]
    }
   ],
   "source": [
    "import time\n",
    "\n",
    "print('start ad')\n",
    "session.get(f'https://ani.gamer.com.tw/ajax/videoCastcishu.php?s={ad_data[\"adsid\"]}&sn={sn}')\n",
    "ad_countdown = 25\n",
    "for countdown in range(ad_countdown):\n",
    "    print(f'ad {ad_countdown - countdown}s remaining', end='\\r')\n",
    "    time.sleep(1)\n",
    "\n",
    "session.get(f'https://ani.gamer.com.tw/ajax/videoCastcishu.php?s={ad_data[\"adsid\"]}&sn={sn}&ad=end')\n",
    "print('\\nend ad')"
   ]
  },
  {
   "cell_type": "code",
   "execution_count": 31,
   "metadata": {},
   "outputs": [
    {
     "name": "stdout",
     "output_type": "stream",
     "text": [
      "<RequestsCookieJar[<Cookie ckBahaAd=------9--------- for />, <Cookie ANIME_SIGN=0479f7f8228feea74f144d5b273fc97d279f6e3c2d84daf5661c190e for .gamer.com.tw/>, <Cookie nologinuser=047a066ce24418fbf68a780436951f2f8b21721032f10244661c190e8807 for .gamer.com.tw/>, <Cookie __cf_bm=dFyh.AcUOICFNv558ltx02SkJwPWIfR9gNmEt2LIEUw-1713117454-1.0.1.1-t1q6AM.H9oBLL344jz5t9j8ZLIirIqyczTSGw3K0eNURUl3IXLCnhOIAe7Pk_aAXxL6hyyRCMFsrTRfxTzjR.Q for .gamer.com.tw/>]>\n"
     ]
    }
   ],
   "source": [
    "print(session.cookies)"
   ]
  },
  {
   "cell_type": "markdown",
   "metadata": {},
   "source": [
    "## 取得播放清單\n",
    "可以觀察到一個叫做`m3u8.php`的API裡面取得了m3u8的網址，例如下面這樣\n",
    "- https://ani.gamer.com.tw/ajax/m3u8.php?sn=37780&device=0052f38c1634575e5e81f13b1daef008c6ae921bc6415a7d660cea1c4571\n",
    "\n",
    "request參數裡面包含了deviceid，經過測試之後這是必要的參數  \n",
    "而`m3u8.php`傳回內容是一個m3u8的網址"
   ]
  },
  {
   "cell_type": "markdown",
   "metadata": {},
   "source": [
    "### 取得devideid"
   ]
  },
  {
   "cell_type": "code",
   "execution_count": 32,
   "metadata": {},
   "outputs": [
    {
     "name": "stdout",
     "output_type": "stream",
     "text": [
      "0536162c74513b443ebbfcfa3f355d268c1d9a4b316175fd661c19400136\n"
     ]
    }
   ],
   "source": [
    "import json\n",
    "\n",
    "deviceid_res = session.get('https://ani.gamer.com.tw/ajax/getdeviceid.php')\n",
    "deviceid_res.raise_for_status()\n",
    "deviceid = json.loads(deviceid_res.text)['deviceid']\n",
    "print(deviceid)"
   ]
  },
  {
   "cell_type": "code",
   "execution_count": null,
   "metadata": {},
   "outputs": [],
   "source": [
    "print(session.cookies)"
   ]
  },
  {
   "cell_type": "markdown",
   "metadata": {},
   "source": [
    "### 取得播放清單網址"
   ]
  },
  {
   "cell_type": "code",
   "execution_count": 11,
   "metadata": {},
   "outputs": [
    {
     "name": "stdout",
     "output_type": "stream",
     "text": [
      "https://bahamut.akamaized.net/1132940b3ed86be8fe4f157ab12b64ded73badf5/playlist_guest.m3u8?hdnts=exp%3D1713038679%7Edata%3D3b88a9406764a3f%3A34142%3A0%3A1%3A68686832%7Eacl%3D%2F1132940b3ed86be8fe4f157ab12b64ded73badf5%2Fplaylist_guest.m3u8%21%2F1132940b3ed86be8fe4f157ab12b64ded73badf5%2F360p%2F%2A%7Ehmac%3Db1f9fa20f79e480bb2535962421f30f8567d1e34ee54f9682559b8c4f8afbce1\n"
     ]
    }
   ],
   "source": [
    "m3u8_php_res = session.get(f'https://ani.gamer.com.tw/ajax/m3u8.php?sn={sn}&device={deviceid}')\n",
    "m3u8_php_res.raise_for_status()\n",
    "try:\n",
    "    playlist_basic_url = json.loads(m3u8_php_res.text)['src']\n",
    "except Exception as ex:\n",
    "    print(m3u8_php_res.text)\n",
    "    print('failed to load m3u')\n",
    "print(playlist_basic_url)"
   ]
  },
  {
   "cell_type": "markdown",
   "metadata": {},
   "source": [
    "### 取得第一層播放清單\n",
    "經由剝參數測試，這個資源會檢查header  \n",
    "> 為何已經取得了m3u8卻不直接用ffmpeg下載？  \n",
    "\n",
    "因為檢查的header有User-Agent、referer、origin，給ffmpeg時需要用`-header`參數傳遞，每個header一行，但是在windows環境下沒辦法傳遞換行字元至參數中，所以選擇自己寫下載的部分，在本機合併"
   ]
  },
  {
   "cell_type": "code",
   "execution_count": 12,
   "metadata": {},
   "outputs": [
    {
     "name": "stdout",
     "output_type": "stream",
     "text": [
      "#EXTM3U\n",
      "#EXT-X-VERSION:3\n",
      "#EXT-X-STREAM-INF:BANDWIDTH=400000,RESOLUTION=640x360\n",
      "360p/hdntl=exp=1713121568~acl=%2f1132940b3ed86be8fe4f157ab12b64ded73badf5%2fplaylist_guest.m3u8!%2f1132940b3ed86be8fe4f157ab12b64ded73badf5%2f360p%2f*~data=hdntl,3b88a9406764a3f%3a34142%3a0%3a1%3a68686832~hmac=c2adae6d513fac52d448c12b2cc862ca0ffb4d95b37d37f97a0666297c42966a/chunklist_b400000.m3u8\n",
      "\n"
     ]
    }
   ],
   "source": [
    "import os\n",
    "\n",
    "meta_base = os.path.dirname(playlist_basic_url) + '/'\n",
    "playlist_basic_res = requests.get(playlist_basic_url, headers=header)\n",
    "playlist_basic_res.raise_for_status()\n",
    "\n",
    "print(playlist_basic_res.text)"
   ]
  },
  {
   "cell_type": "markdown",
   "metadata": {},
   "source": [
    "### 分離出第二層播放清單網址\n",
    "第一層播放清單中引用了第二層播放清單，未登入帳號只能看到360p的播放清單  \n",
    "題外話，未登入一直以來都只能看360p，但以前其實未登入播放清單會給到720p，在前端動點手腳解除UI封印就可以播放了"
   ]
  },
  {
   "cell_type": "code",
   "execution_count": 13,
   "metadata": {},
   "outputs": [],
   "source": [
    "playlist_basic = playlist_basic_res.text.split('\\n')\n",
    "resolutions_metadata = []\n",
    "for i in range(len(playlist_basic)):\n",
    "    line = playlist_basic[i]\n",
    "    if line.startswith('#EXT-X-STREAM-INF'):\n",
    "        resolutions_metadata.append({'info': line[18:], 'url': playlist_basic[i+1]})"
   ]
  },
  {
   "cell_type": "code",
   "execution_count": 14,
   "metadata": {},
   "outputs": [
    {
     "name": "stdout",
     "output_type": "stream",
     "text": [
      "[\n",
      "    {\n",
      "        \"info\": \"BANDWIDTH=400000,RESOLUTION=640x360\",\n",
      "        \"url\": \"360p/hdntl=exp=1713121568~acl=%2f1132940b3ed86be8fe4f157ab12b64ded73badf5%2fplaylist_guest.m3u8!%2f1132940b3ed86be8fe4f157ab12b64ded73badf5%2f360p%2f*~data=hdntl,3b88a9406764a3f%3a34142%3a0%3a1%3a68686832~hmac=c2adae6d513fac52d448c12b2cc862ca0ffb4d95b37d37f97a0666297c42966a/chunklist_b400000.m3u8\"\n",
      "    }\n",
      "]\n"
     ]
    }
   ],
   "source": [
    "print(json.dumps(resolutions_metadata, indent=4))"
   ]
  },
  {
   "cell_type": "markdown",
   "metadata": {},
   "source": [
    "### 列出可選的畫質\n",
    "未登入的工作階段只能看到360p"
   ]
  },
  {
   "cell_type": "code",
   "execution_count": 15,
   "metadata": {},
   "outputs": [
    {
     "name": "stdout",
     "output_type": "stream",
     "text": [
      "#0: BANDWIDTH=400000,RESOLUTION=640x360\n"
     ]
    }
   ],
   "source": [
    "for j in range(len(resolutions_metadata)):\n",
    "    print('#%s: %s' % (j, resolutions_metadata[j]['info']))"
   ]
  },
  {
   "cell_type": "code",
   "execution_count": 16,
   "metadata": {},
   "outputs": [
    {
     "name": "stdout",
     "output_type": "stream",
     "text": [
      "selected: #0\n"
     ]
    }
   ],
   "source": [
    "selected_resolution = int(input('select a resolution: '))\n",
    "print(f'selected: #{selected_resolution}')"
   ]
  },
  {
   "cell_type": "markdown",
   "metadata": {},
   "source": [
    "## 準備下載"
   ]
  },
  {
   "cell_type": "markdown",
   "metadata": {},
   "source": [
    "### 準備下載用的資料夾"
   ]
  },
  {
   "cell_type": "code",
   "execution_count": 17,
   "metadata": {},
   "outputs": [],
   "source": [
    "resolution_number = resolutions_metadata[selected_resolution]['info'].rsplit('=', 1)[1]\n",
    "folder_name = f'{sn}_{resolution_number}'\n",
    "os.makedirs(os.path.join('Download', folder_name), exist_ok=True)\n",
    "os.chdir(os.path.join('Download', folder_name))"
   ]
  },
  {
   "cell_type": "markdown",
   "metadata": {},
   "source": [
    "### 取得第二層播放清單\n",
    "經由剝參數測試，這個資源也會檢查header"
   ]
  },
  {
   "cell_type": "code",
   "execution_count": 18,
   "metadata": {},
   "outputs": [
    {
     "name": "stdout",
     "output_type": "stream",
     "text": [
      "https://bahamut.akamaized.net/1132940b3ed86be8fe4f157ab12b64ded73badf5/360p/hdntl=exp=1713121568~acl=%2f1132940b3ed86be8fe4f157ab12b64ded73badf5%2fplaylist_guest.m3u8!%2f1132940b3ed86be8fe4f157ab12b64ded73badf5%2f360p%2f*~data=hdntl,3b88a9406764a3f%3a34142%3a0%3a1%3a68686832~hmac=c2adae6d513fac52d448c12b2cc862ca0ffb4d95b37d37f97a0666297c42966a/chunklist_b400000.m3u8\n"
     ]
    }
   ],
   "source": [
    "chunklist_url = meta_base + resolutions_metadata[selected_resolution]['url']\n",
    "print(chunklist_url)"
   ]
  },
  {
   "cell_type": "code",
   "execution_count": 19,
   "metadata": {},
   "outputs": [
    {
     "name": "stdout",
     "output_type": "stream",
     "text": [
      "#EXTM3U\n",
      "#EXT-X-VERSION:3\n",
      "#EXT-X-TARGETDURATION:10\n",
      "#EXT-X-MEDIA-SEQUENCE:0\n",
      "#EXT-X-KEY:METHOD=AES-128,URI=\"key_b400000.m3u8key\",IV=0x7511ab57aafcb9bf3f5e18aa1f8ddb44\n",
      "#EXTINF:10.427089,\n",
      "media_b400000_0.ts\n",
      "#EXTINF:10.427078,\n",
      "media_b400000_1.ts\n",
      "#EXTINF:10.427089,\n",
      "media_b400000_2.ts\n",
      "#EXTINF:10.427078,\n",
      "media_b400000_3.ts\n",
      "#EXTINF:10.427089,\n",
      "media_b400000_4.ts\n",
      "#EXTINF:10.427078,\n",
      "media_b400000_5.ts\n",
      "#EXTINF:10.427089,\n",
      "media_b400000_6.ts\n",
      "#EXTINF:10.427078,\n",
      "media_b400000_7.ts\n",
      "#EXTINF:10.427089,\n",
      "media_b400000_8.ts\n",
      "#EXTINF:10.427078,\n",
      "media_b400000_9.ts\n",
      "#EXTINF:10.427089,\n",
      "media_b400000_10.ts\n",
      "#EXTINF:10.427078,\n",
      "media_b400000_11.ts\n",
      "#EXTINF:10.427089,\n",
      "media_b400000_12.ts\n",
      "#EXTINF:10.427078,\n",
      "media_b400000_13.ts\n",
      "#EXTINF:10.427089,\n",
      "media_b400000_14.ts\n",
      "#EXTINF:10.427078,\n",
      "media_b400000_15.ts\n",
      "#EXTINF:10.427089,\n",
      "media_b400000_16.ts\n",
      "#EXTINF:10.427078,\n",
      "media_b400000_17.ts\n",
      "#EXTINF:10.427089,\n",
      "media_b400000_18.ts\n",
      "#EXTINF:10.427078,\n",
      "media_b400000_19.ts\n",
      "#EXTINF:10.427089,\n",
      "media_b400000_20.ts\n",
      "#EXTINF:10.427078,\n",
      "media_b400000_21.ts\n",
      "#EXTINF:10.427089,\n",
      "media_b400000_22.ts\n",
      "#EXTINF:10.427078,\n",
      "media_b400000_23.ts\n",
      "#EXTINF:10.427089,\n",
      "media_b400000_24.ts\n",
      "#EXTINF:10.427078,\n",
      "media_b400000_25.ts\n",
      "#EXTINF:10.427089,\n",
      "media_b400000_26.ts\n",
      "#EXTINF:10.427078,\n",
      "media_b400000_27.ts\n",
      "#EXTINF:10.427089,\n",
      "media_b400000_28.ts\n",
      "#EXTINF:10.427078,\n",
      "media_b400000_29.ts\n",
      "#EXTINF:10.427089,\n",
      "media_b400000_30.ts\n",
      "#EXTINF:10.427078,\n",
      "media_b400000_31.ts\n",
      "#EXTINF:10.427089,\n",
      "media_b400000_32.ts\n",
      "#EXTINF:10.427078,\n",
      "media_b400000_33.ts\n",
      "#EXTINF:10.427089,\n",
      "media_b400000_34.ts\n",
      "#EXTINF:10.427078,\n",
      "media_b400000_35.ts\n",
      "#EXTINF:10.427089,\n",
      "media_b400000_36.ts\n",
      "#EXTINF:10.427078,\n",
      "media_b400000_37.ts\n",
      "#EXTINF:10.427089,\n",
      "media_b400000_38.ts\n",
      "#EXTINF:10.427078,\n",
      "media_b400000_39.ts\n",
      "#EXTINF:10.427089,\n",
      "media_b400000_40.ts\n",
      "#EXTINF:10.427078,\n",
      "media_b400000_41.ts\n",
      "#EXTINF:10.427089,\n",
      "media_b400000_42.ts\n",
      "#EXTINF:10.427078,\n",
      "media_b400000_43.ts\n",
      "#EXTINF:10.427089,\n",
      "media_b400000_44.ts\n",
      "#EXTINF:10.427078,\n",
      "media_b400000_45.ts\n",
      "#EXTINF:10.427089,\n",
      "media_b400000_46.ts\n",
      "#EXTINF:10.427078,\n",
      "media_b400000_47.ts\n",
      "#EXTINF:10.427089,\n",
      "media_b400000_48.ts\n",
      "#EXTINF:10.427078,\n",
      "media_b400000_49.ts\n",
      "#EXTINF:10.427089,\n",
      "media_b400000_50.ts\n",
      "#EXTINF:10.427078,\n",
      "media_b400000_51.ts\n",
      "#EXTINF:10.427089,\n",
      "media_b400000_52.ts\n",
      "#EXTINF:10.427078,\n",
      "media_b400000_53.ts\n",
      "#EXTINF:10.427089,\n",
      "media_b400000_54.ts\n",
      "#EXTINF:10.427078,\n",
      "media_b400000_55.ts\n",
      "#EXTINF:10.427089,\n",
      "media_b400000_56.ts\n",
      "#EXTINF:10.427078,\n",
      "media_b400000_57.ts\n",
      "#EXTINF:10.427089,\n",
      "media_b400000_58.ts\n",
      "#EXTINF:10.427078,\n",
      "media_b400000_59.ts\n",
      "#EXTINF:10.427089,\n",
      "media_b400000_60.ts\n",
      "#EXTINF:10.427078,\n",
      "media_b400000_61.ts\n",
      "#EXTINF:10.427089,\n",
      "media_b400000_62.ts\n",
      "#EXTINF:10.427078,\n",
      "media_b400000_63.ts\n",
      "#EXTINF:10.427089,\n",
      "media_b400000_64.ts\n",
      "#EXTINF:10.427078,\n",
      "media_b400000_65.ts\n",
      "#EXTINF:10.427089,\n",
      "media_b400000_66.ts\n",
      "#EXTINF:10.427078,\n",
      "media_b400000_67.ts\n",
      "#EXTINF:10.427089,\n",
      "media_b400000_68.ts\n",
      "#EXTINF:10.427078,\n",
      "media_b400000_69.ts\n",
      "#EXTINF:10.427089,\n",
      "media_b400000_70.ts\n",
      "#EXTINF:10.427078,\n",
      "media_b400000_71.ts\n",
      "#EXTINF:10.427089,\n",
      "media_b400000_72.ts\n",
      "#EXTINF:10.427078,\n",
      "media_b400000_73.ts\n",
      "#EXTINF:10.427089,\n",
      "media_b400000_74.ts\n",
      "#EXTINF:10.427078,\n",
      "media_b400000_75.ts\n",
      "#EXTINF:10.427089,\n",
      "media_b400000_76.ts\n",
      "#EXTINF:10.427078,\n",
      "media_b400000_77.ts\n",
      "#EXTINF:10.427089,\n",
      "media_b400000_78.ts\n",
      "#EXTINF:10.427078,\n",
      "media_b400000_79.ts\n",
      "#EXTINF:10.427089,\n",
      "media_b400000_80.ts\n",
      "#EXTINF:10.427078,\n",
      "media_b400000_81.ts\n",
      "#EXTINF:10.427089,\n",
      "media_b400000_82.ts\n",
      "#EXTINF:10.427078,\n",
      "media_b400000_83.ts\n",
      "#EXTINF:10.427089,\n",
      "media_b400000_84.ts\n",
      "#EXTINF:10.427078,\n",
      "media_b400000_85.ts\n",
      "#EXTINF:10.427089,\n",
      "media_b400000_86.ts\n",
      "#EXTINF:10.427078,\n",
      "media_b400000_87.ts\n",
      "#EXTINF:10.427089,\n",
      "media_b400000_88.ts\n",
      "#EXTINF:10.427078,\n",
      "media_b400000_89.ts\n",
      "#EXTINF:10.427089,\n",
      "media_b400000_90.ts\n",
      "#EXTINF:10.427078,\n",
      "media_b400000_91.ts\n",
      "#EXTINF:10.427089,\n",
      "media_b400000_92.ts\n",
      "#EXTINF:10.427078,\n",
      "media_b400000_93.ts\n",
      "#EXTINF:10.427089,\n",
      "media_b400000_94.ts\n",
      "#EXTINF:10.427078,\n",
      "media_b400000_95.ts\n",
      "#EXTINF:10.427089,\n",
      "media_b400000_96.ts\n",
      "#EXTINF:10.427078,\n",
      "media_b400000_97.ts\n",
      "#EXTINF:10.427089,\n",
      "media_b400000_98.ts\n",
      "#EXTINF:10.427078,\n",
      "media_b400000_99.ts\n",
      "#EXTINF:10.427089,\n",
      "media_b400000_100.ts\n",
      "#EXTINF:10.427078,\n",
      "media_b400000_101.ts\n",
      "#EXTINF:10.427089,\n",
      "media_b400000_102.ts\n",
      "#EXTINF:10.427078,\n",
      "media_b400000_103.ts\n",
      "#EXTINF:10.427089,\n",
      "media_b400000_104.ts\n",
      "#EXTINF:10.427078,\n",
      "media_b400000_105.ts\n",
      "#EXTINF:10.427089,\n",
      "media_b400000_106.ts\n",
      "#EXTINF:10.427078,\n",
      "media_b400000_107.ts\n",
      "#EXTINF:10.427089,\n",
      "media_b400000_108.ts\n",
      "#EXTINF:10.427078,\n",
      "media_b400000_109.ts\n",
      "#EXTINF:10.427089,\n",
      "media_b400000_110.ts\n",
      "#EXTINF:10.427078,\n",
      "media_b400000_111.ts\n",
      "#EXTINF:10.427089,\n",
      "media_b400000_112.ts\n",
      "#EXTINF:10.427078,\n",
      "media_b400000_113.ts\n",
      "#EXTINF:10.427089,\n",
      "media_b400000_114.ts\n",
      "#EXTINF:10.427078,\n",
      "media_b400000_115.ts\n",
      "#EXTINF:10.427089,\n",
      "media_b400000_116.ts\n",
      "#EXTINF:10.427078,\n",
      "media_b400000_117.ts\n",
      "#EXTINF:10.427089,\n",
      "media_b400000_118.ts\n",
      "#EXTINF:10.427078,\n",
      "media_b400000_119.ts\n",
      "#EXTINF:10.427089,\n",
      "media_b400000_120.ts\n",
      "#EXTINF:10.427078,\n",
      "media_b400000_121.ts\n",
      "#EXTINF:10.427089,\n",
      "media_b400000_122.ts\n",
      "#EXTINF:10.427078,\n",
      "media_b400000_123.ts\n",
      "#EXTINF:10.427089,\n",
      "media_b400000_124.ts\n",
      "#EXTINF:10.427078,\n",
      "media_b400000_125.ts\n",
      "#EXTINF:10.427089,\n",
      "media_b400000_126.ts\n",
      "#EXTINF:10.427078,\n",
      "media_b400000_127.ts\n",
      "#EXTINF:10.427089,\n",
      "media_b400000_128.ts\n",
      "#EXTINF:10.427078,\n",
      "media_b400000_129.ts\n",
      "#EXTINF:10.427089,\n",
      "media_b400000_130.ts\n",
      "#EXTINF:10.427078,\n",
      "media_b400000_131.ts\n",
      "#EXTINF:10.427089,\n",
      "media_b400000_132.ts\n",
      "#EXTINF:10.427078,\n",
      "media_b400000_133.ts\n",
      "#EXTINF:10.427089,\n",
      "media_b400000_134.ts\n",
      "#EXTINF:10.427078,\n",
      "media_b400000_135.ts\n",
      "#EXTINF:1.960422,\n",
      "media_b400000_136.ts\n",
      "#EXT-X-ENDLIST\n",
      "\n"
     ]
    }
   ],
   "source": [
    "chunklist_res = requests.get(chunklist_url, headers=header)\n",
    "print(chunklist_res.text)"
   ]
  },
  {
   "cell_type": "markdown",
   "metadata": {},
   "source": [
    "### 儲存m3u8至檔案"
   ]
  },
  {
   "cell_type": "code",
   "execution_count": 20,
   "metadata": {},
   "outputs": [],
   "source": [
    "chunklist_filename = folder_name + '.m3u8'\n",
    "with open(chunklist_filename, 'wb') as chunklist_file:\n",
    "    for chunk in chunklist_res:\n",
    "        chunklist_file.write(chunk)"
   ]
  },
  {
   "cell_type": "markdown",
   "metadata": {},
   "source": [
    "### 分離出影片網址的base"
   ]
  },
  {
   "cell_type": "code",
   "execution_count": 21,
   "metadata": {},
   "outputs": [
    {
     "name": "stdout",
     "output_type": "stream",
     "text": [
      "https://bahamut.akamaized.net/1132940b3ed86be8fe4f157ab12b64ded73badf5/360p/hdntl=exp=1713121568~acl=%2f1132940b3ed86be8fe4f157ab12b64ded73badf5%2fplaylist_guest.m3u8!%2f1132940b3ed86be8fe4f157ab12b64ded73badf5%2f360p%2f*~data=hdntl,3b88a9406764a3f%3a34142%3a0%3a1%3a68686832~hmac=c2adae6d513fac52d448c12b2cc862ca0ffb4d95b37d37f97a0666297c42966a/\n"
     ]
    }
   ],
   "source": [
    "chunks_base = meta_base + resolutions_metadata[selected_resolution]['url'].rsplit('/', 1)[0] + '/'\n",
    "print(chunks_base)"
   ]
  },
  {
   "cell_type": "markdown",
   "metadata": {},
   "source": [
    "#### 初始化多執行緒下載模組\n",
    "自己手刻的土炮多執行緒，但記得隊網站斯文一些才有禮貌，不要一傢伙榨乾對方頻寬"
   ]
  },
  {
   "cell_type": "code",
   "execution_count": 22,
   "metadata": {},
   "outputs": [],
   "source": [
    "import multiple_thread_downloading\n",
    "chunklist = chunklist_res.text.split('\\n')\n",
    "mtd_worker = multiple_thread_downloading.mtd(header, chunks_base, chunklist_res.text.count('.ts'))"
   ]
  },
  {
   "cell_type": "markdown",
   "metadata": {},
   "source": [
    "#### 把.ts網址丟進queue\n",
    "裡面有key的檔案，也順便丟進去下載"
   ]
  },
  {
   "cell_type": "code",
   "execution_count": 23,
   "metadata": {},
   "outputs": [
    {
     "name": "stdout",
     "output_type": "stream",
     "text": [
      "Downloading key_b400000.m3u8key...\n",
      "Downloading media_b400000_0.ts...\n",
      "Downloading media_b400000_1.ts...\n",
      "Downloading media_b400000_2.ts...\n",
      "Downloading media_b400000_3.ts...\n"
     ]
    },
    {
     "name": "stdout",
     "output_type": "stream",
     "text": [
      "Downloading media_b400000_4.ts...\n",
      "Downloading media_b400000_5.ts...\n",
      "Downloading media_b400000_6.ts...\n",
      "Downloading media_b400000_7.ts...\n",
      "Downloading media_b400000_8.ts...\n",
      "Downloading media_b400000_9.ts...\n",
      "Downloading media_b400000_10.ts...\n",
      "Downloading media_b400000_11.ts...\n",
      "Downloading media_b400000_12.ts...\n",
      "Downloading media_b400000_13.ts...\n",
      "Downloading media_b400000_14.ts...\n",
      "Downloading media_b400000_15.ts...\n",
      "Downloading media_b400000_16.ts...\n",
      "Downloading media_b400000_17.ts...\n",
      "Downloading media_b400000_18.ts...\n",
      "Downloading media_b400000_19.ts...\n",
      "Downloading media_b400000_20.ts...\n",
      "Downloading media_b400000_21.ts...\n",
      "Downloading media_b400000_22.ts...\n",
      "Downloading media_b400000_23.ts...\n",
      "Downloading media_b400000_24.ts...\n",
      "Downloading media_b400000_25.ts...\n",
      "Downloading media_b400000_26.ts...\n",
      "Downloading media_b400000_27.ts...\n",
      "Downloading media_b400000_28.ts...\n",
      "Downloading media_b400000_29.ts...\n",
      "Downloading media_b400000_30.ts...\n",
      "Downloading media_b400000_31.ts...\n",
      "Downloading media_b400000_32.ts...\n",
      "Downloading media_b400000_33.ts...\n",
      "Downloading media_b400000_34.ts...\n",
      "Downloading media_b400000_35.ts...\n",
      "Downloading media_b400000_36.ts...\n",
      "Downloading media_b400000_37.ts...\n",
      "Downloading media_b400000_38.ts...\n",
      "Downloading media_b400000_39.ts...\n",
      "Downloading media_b400000_40.ts...\n",
      "Downloading media_b400000_41.ts...\n",
      "Downloading media_b400000_42.ts...\n",
      "Downloading media_b400000_43.ts...\n",
      "Downloading media_b400000_44.ts...\n",
      "Downloading media_b400000_45.ts...\n",
      "Downloading media_b400000_46.ts...\n",
      "Downloading media_b400000_47.ts...\n",
      "Downloading media_b400000_48.ts...\n",
      "Downloading media_b400000_49.ts...\n",
      "Downloading media_b400000_50.ts...\n",
      "Downloading media_b400000_51.ts...\n",
      "Downloading media_b400000_52.ts...\n",
      "Downloading media_b400000_53.ts...\n",
      "Downloading media_b400000_54.ts...\n",
      "Downloading media_b400000_55.ts...\n",
      "Downloading media_b400000_56.ts...\n",
      "Downloading media_b400000_57.ts...\n",
      "Downloading media_b400000_58.ts...\n",
      "Downloading media_b400000_59.ts...\n",
      "Downloading media_b400000_60.ts...\n",
      "Downloading media_b400000_61.ts...\n",
      "Downloading media_b400000_62.ts...\n",
      "Downloading media_b400000_63.ts...\n",
      "Downloading media_b400000_64.ts...\n",
      "Downloading media_b400000_65.ts...\n",
      "Downloading media_b400000_66.ts...\n",
      "Downloading media_b400000_67.ts...\n",
      "Downloading media_b400000_68.ts...\n",
      "Downloading media_b400000_69.ts...\n",
      "Downloading media_b400000_70.ts...\n",
      "Downloading media_b400000_71.ts...\n",
      "Downloading media_b400000_72.ts...\n",
      "Downloading media_b400000_73.ts...\n",
      "Downloading media_b400000_74.ts...\n",
      "Downloading media_b400000_75.ts...\n",
      "Downloading media_b400000_76.ts...\n",
      "Downloading media_b400000_77.ts...\n",
      "Downloading media_b400000_78.ts...\n",
      "Downloading media_b400000_79.ts...\n",
      "Downloading media_b400000_80.ts...\n",
      "Downloading media_b400000_81.ts...\n",
      "Downloading media_b400000_82.ts...\n",
      "Downloading media_b400000_83.ts...\n",
      "Downloading media_b400000_84.ts...\n",
      "Downloading media_b400000_85.ts...\n",
      "Downloading media_b400000_86.ts...\n",
      "Downloading media_b400000_87.ts...\n",
      "Downloading media_b400000_88.ts...\n",
      "Downloading media_b400000_89.ts...\n",
      "Downloading media_b400000_90.ts...\n",
      "Downloading media_b400000_91.ts...\n",
      "Downloading media_b400000_92.ts...\n",
      "Downloading media_b400000_93.ts...\n",
      "Downloading media_b400000_94.ts...\n",
      "Downloading media_b400000_95.ts...\n",
      "Downloading media_b400000_96.ts...\n",
      "Downloading media_b400000_97.ts...\n",
      "Downloading media_b400000_98.ts...\n",
      "Downloading media_b400000_99.ts...\n",
      "Downloading media_b400000_100.ts...\n",
      "Downloading media_b400000_101.ts...\n",
      "Downloading media_b400000_102.ts...\n",
      "Downloading media_b400000_103.ts...\n",
      "Downloading media_b400000_104.ts...\n",
      "Downloading media_b400000_105.ts...\n",
      "Downloading media_b400000_106.ts...\n",
      "Downloading media_b400000_107.ts...\n",
      "Downloading media_b400000_108.ts...\n",
      "Downloading media_b400000_109.ts...\n",
      "Downloading media_b400000_110.ts...\n",
      "Downloading media_b400000_111.ts...\n",
      "Downloading media_b400000_112.ts...\n",
      "Downloading media_b400000_113.ts...\n",
      "Downloading media_b400000_114.ts...\n",
      "Downloading media_b400000_115.ts...\n",
      "Downloading media_b400000_116.ts...\n",
      "Downloading media_b400000_117.ts...\n",
      "Downloading media_b400000_118.ts...\n",
      "Downloading media_b400000_119.ts...\n",
      "Downloading media_b400000_120.ts...\n",
      "Downloading media_b400000_121.ts...\n",
      "Downloading media_b400000_122.ts...\n",
      "Downloading media_b400000_123.ts...\n",
      "Downloading media_b400000_124.ts...\n",
      "Downloading media_b400000_125.ts...\n",
      "Downloading media_b400000_126.ts...\n",
      "Downloading media_b400000_127.ts...\n",
      "Downloading media_b400000_128.ts...\n",
      "Downloading media_b400000_129.ts...\n",
      "Downloading media_b400000_130.ts...\n",
      "Downloading media_b400000_131.ts...\n",
      "Downloading media_b400000_132.ts...\n",
      "Downloading media_b400000_133.ts...\n",
      "Downloading media_b400000_134.ts...\n",
      "Downloading media_b400000_135.ts...\n",
      "Downloading media_b400000_136.ts...\n"
     ]
    }
   ],
   "source": [
    "import re\n",
    "\n",
    "for k in range(len(chunklist)):\n",
    "    line = chunklist[k]\n",
    "    if line.startswith('#EXTINF'):\n",
    "        ts_name = chunklist[k+1]\n",
    "        # push\n",
    "        mtd_worker.push(ts_name)\n",
    "    elif line.startswith('#EXT-X-KEY'):\n",
    "        key_name = re.match('.*URI=\"(.*)\".*$', line).group(1)\n",
    "        # push\n",
    "        mtd_worker.push(key_name)"
   ]
  },
  {
   "cell_type": "markdown",
   "metadata": {},
   "source": [
    "### 等待下載完成"
   ]
  },
  {
   "cell_type": "code",
   "execution_count": 24,
   "metadata": {},
   "outputs": [],
   "source": [
    "mtd_worker.join()"
   ]
  },
  {
   "cell_type": "markdown",
   "metadata": {},
   "source": [
    "## 呼叫ffmpeg合併\n",
    "key在m3u8裡面有寫到，ffmpeg會自己解開加密的部分"
   ]
  },
  {
   "cell_type": "code",
   "execution_count": 25,
   "metadata": {},
   "outputs": [
    {
     "name": "stdout",
     "output_type": "stream",
     "text": [
      "ffmpeg -allowed_extensions ALL -i 34142_640x360.m3u8 -c copy 34142_640x360.mp4\n"
     ]
    },
    {
     "data": {
      "text/plain": [
       "0"
      ]
     },
     "execution_count": 25,
     "metadata": {},
     "output_type": "execute_result"
    }
   ],
   "source": [
    "command = f'ffmpeg -allowed_extensions ALL -i {chunklist_filename} -c copy {folder_name}.mp4'\n",
    "print(command)\n",
    "os.system(command)"
   ]
  }
 ],
 "metadata": {
  "kernelspec": {
   "display_name": "Python 3",
   "language": "python",
   "name": "python3"
  },
  "language_info": {
   "codemirror_mode": {
    "name": "ipython",
    "version": 3
   },
   "file_extension": ".py",
   "mimetype": "text/x-python",
   "name": "python",
   "nbconvert_exporter": "python",
   "pygments_lexer": "ipython3",
   "version": "3.11.4"
  }
 },
 "nbformat": 4,
 "nbformat_minor": 2
}
