{
 "cells": [
  {
   "cell_type": "markdown",
   "metadata": {},
   "source": [
    "## 找到動畫瘋如何表示集數\n",
    "一部動畫的id會在參數中以`sn`表示  \n",
    "以[https://ani.gamer.com.tw/animeVideo.php?sn=34142](https://ani.gamer.com.tw/animeVideo.php?sn=34142)為例  \n",
    "`sn`是34142"
   ]
  },
  {
   "cell_type": "code",
   "execution_count": null,
   "metadata": {},
   "outputs": [],
   "source": [
    "sn = '34142'"
   ]
  },
  {
   "cell_type": "markdown",
   "metadata": {},
   "source": [
    "## 觀察network流量\n",
    "先看到了`playlist.m3u8`，用ffplay播放"
   ]
  },
  {
   "cell_type": "code",
   "execution_count": null,
   "metadata": {},
   "outputs": [],
   "source": [
    "! ffplay -i https://bahamut.akamaized.net/ad/welcome_to_anigamer/playlist.m3u8"
   ]
  },
  {
   "cell_type": "markdown",
   "metadata": {},
   "source": [
    "但顯然這個播放清單是歡迎畫面的，不是動畫本體"
   ]
  },
  {
   "cell_type": "markdown",
   "metadata": {},
   "source": [
    "觀察有可能的API\n",
    "- `getdeviceid.php`\n",
    "- `video.php`\n",
    "- `token.php`"
   ]
  },
  {
   "cell_type": "markdown",
   "metadata": {},
   "source": [
    "## 初始化工作階段\n",
    "後續會呼叫的API有一部分會認cookie，且都會認header，這些在開發的時候會一個一個測試，但是這邊就先寫結論方便展示  \n",
    "header會認以下幾個：\n",
    "- user-agent\n",
    "- referer\n",
    "- origin"
   ]
  },
  {
   "cell_type": "code",
   "execution_count": null,
   "metadata": {},
   "outputs": [],
   "source": [
    "import requests\n",
    "\n",
    "header = {'user-agent': 'Mozilla/5.0 (Windows NT 10.0; Win64; x64) AppleWebKit/537.36 (KHTML, like Gecko) Chrome/91.0.4472.124 Safari/537.36 Edg/91.0.864.70', 'referer': 'https://ani.gamer.com.tw/animeVideo.php', 'origin': 'https://ani.gamer.com.tw'}\n",
    "session = requests.session()\n",
    "session.headers.update(header)\n",
    "print(session.cookies)"
   ]
  },
  {
   "cell_type": "markdown",
   "metadata": {},
   "source": [
    "### 載入現有的cookie"
   ]
  },
  {
   "cell_type": "markdown",
   "metadata": {},
   "source": [
    "如果有某帳號的關鍵cookie的話，就可以用那個帳號的權限來瀏覽動畫，例如有帳號就能看720p，有會員就能看1080p"
   ]
  },
  {
   "cell_type": "code",
   "execution_count": null,
   "metadata": {},
   "outputs": [],
   "source": [
    "with open('cookies.txt', 'r') as f:\n",
    "    cookies = f.read().strip()\n",
    "    cookies = {i.split('=')[0]: i.split('=')[1] for i in cookies.split('\\n')}\n",
    "    session.cookies.update(cookies)"
   ]
  },
  {
   "cell_type": "markdown",
   "metadata": {},
   "source": [
    "## 觀看廣告\n",
    "沒有買會員的話就需要看30秒廣告才能開始看動畫，但這個30秒怎麼計數的呢？  \n",
    "開始廣告之後會發現一個API呼叫\n",
    "- `videoCastcishu.php?s=...&sn=37780`\n",
    "\n",
    "廣告結束後也有一個呼叫\n",
    "- `videoCastcishu.php?s=...&sn=37780&ad=end`\n",
    "\n",
    "如果是客戶端計數，直接無視就好，如果是伺服器端計數，就乖乖等"
   ]
  },
  {
   "cell_type": "markdown",
   "metadata": {},
   "source": [
    "### 取得廣告的ID\n",
    "生成廣告ID是直接從原始碼幹出來用python復刻的，可以當作魔法"
   ]
  },
  {
   "cell_type": "code",
   "execution_count": null,
   "metadata": {},
   "outputs": [],
   "source": [
    "import functions\n",
    "ad_data = functions.get_major_ad()\n",
    "session.cookies.update(ad_data['cookie'])\n",
    "print(ad_data)"
   ]
  },
  {
   "cell_type": "markdown",
   "metadata": {},
   "source": [
    "### 模擬看廣告\n",
    "將廣告ID送出去，假裝自己開始看了廣告，計時之後再送看完了的封包  \n",
    "廣告原本是30秒，但實際上伺服器端計時約25秒"
   ]
  },
  {
   "cell_type": "code",
   "execution_count": null,
   "metadata": {},
   "outputs": [],
   "source": [
    "import time\n",
    "\n",
    "print('start ad')\n",
    "session.get(f'https://ani.gamer.com.tw/ajax/videoCastcishu.php?s={ad_data[\"adsid\"]}&sn={sn}')\n",
    "ad_countdown = 25\n",
    "for countdown in range(ad_countdown):\n",
    "    print(f'ad {ad_countdown - countdown}s remaining', end='\\r')\n",
    "    time.sleep(1)\n",
    "\n",
    "session.get(f'https://ani.gamer.com.tw/ajax/videoCastcishu.php?s={ad_data[\"adsid\"]}&sn={sn}&ad=end')\n",
    "print('\\nend ad')"
   ]
  },
  {
   "cell_type": "code",
   "execution_count": null,
   "metadata": {},
   "outputs": [],
   "source": [
    "print(session.cookies)"
   ]
  },
  {
   "cell_type": "markdown",
   "metadata": {},
   "source": [
    "## 取得播放清單\n",
    "可以觀察到一個叫做`m3u8.php`的API裡面取得了m3u8的網址，例如下面這樣\n",
    "- https://ani.gamer.com.tw/ajax/m3u8.php?sn=37780&device=0052f38c1634575e5e81f13b1daef008c6ae921bc6415a7d660cea1c4571\n",
    "\n",
    "request參數裡面包含了deviceid，經過測試之後這是必要的參數  \n",
    "而`m3u8.php`傳回內容是一個m3u8的網址"
   ]
  },
  {
   "cell_type": "markdown",
   "metadata": {},
   "source": [
    "### 取得devideid"
   ]
  },
  {
   "cell_type": "code",
   "execution_count": null,
   "metadata": {},
   "outputs": [],
   "source": [
    "import json\n",
    "\n",
    "deviceid_res = session.get('https://ani.gamer.com.tw/ajax/getdeviceid.php')\n",
    "deviceid_res.raise_for_status()\n",
    "deviceid = json.loads(deviceid_res.text)['deviceid']\n",
    "print(deviceid)"
   ]
  },
  {
   "cell_type": "markdown",
   "metadata": {},
   "source": [
    "### 取得播放清單網址"
   ]
  },
  {
   "cell_type": "code",
   "execution_count": null,
   "metadata": {},
   "outputs": [],
   "source": [
    "m3u8_php_res = session.get(f'https://ani.gamer.com.tw/ajax/m3u8.php?sn={sn}&device={deviceid}')\n",
    "m3u8_php_res.raise_for_status()\n",
    "try:\n",
    "    playlist_basic_url = json.loads(m3u8_php_res.text)['src']\n",
    "except Exception as ex:\n",
    "    print(m3u8_php_res.text)\n",
    "    print('failed to load m3u')\n",
    "print(playlist_basic_url)"
   ]
  },
  {
   "cell_type": "markdown",
   "metadata": {},
   "source": [
    "### 取得第一層播放清單\n",
    "經由剝參數測試，這個資源會檢查header  \n",
    "> 為何已經取得了m3u8卻不直接用ffmpeg下載？  \n",
    "\n",
    "因為檢查的header有User-Agent、referer、origin，給ffmpeg時需要用`-header`參數傳遞，每個header一行，但是在windows環境下沒辦法傳遞換行字元至參數中，所以選擇自己寫下載的部分，在本機合併"
   ]
  },
  {
   "cell_type": "code",
   "execution_count": null,
   "metadata": {},
   "outputs": [],
   "source": [
    "import os\n",
    "\n",
    "meta_base = os.path.dirname(playlist_basic_url) + '/'\n",
    "playlist_basic_res = requests.get(playlist_basic_url, headers=header)\n",
    "playlist_basic_res.raise_for_status()\n",
    "\n",
    "print(playlist_basic_res.text)"
   ]
  },
  {
   "cell_type": "markdown",
   "metadata": {},
   "source": [
    "### 分離出第二層播放清單網址\n",
    "第一層播放清單中引用了第二層播放清單，未登入帳號只能看到360p的播放清單  \n",
    "題外話，未登入一直以來都只能看360p，但以前其實未登入播放清單會給到720p，在前端動點手腳解除UI封印就可以播放了"
   ]
  },
  {
   "cell_type": "code",
   "execution_count": null,
   "metadata": {},
   "outputs": [],
   "source": [
    "playlist_basic = playlist_basic_res.text.split('\\n')\n",
    "resolutions_metadata = []\n",
    "for i in range(len(playlist_basic)):\n",
    "    line = playlist_basic[i]\n",
    "    if line.startswith('#EXT-X-STREAM-INF'):\n",
    "        resolutions_metadata.append({'info': line[18:], 'url': playlist_basic[i+1]})"
   ]
  },
  {
   "cell_type": "code",
   "execution_count": null,
   "metadata": {},
   "outputs": [],
   "source": [
    "print(json.dumps(resolutions_metadata, indent=4))"
   ]
  },
  {
   "cell_type": "markdown",
   "metadata": {},
   "source": [
    "### 列出可選的畫質\n",
    "未登入的工作階段只能看到360p"
   ]
  },
  {
   "cell_type": "code",
   "execution_count": null,
   "metadata": {},
   "outputs": [],
   "source": [
    "for j in range(len(resolutions_metadata)):\n",
    "    print('#%s: %s' % (j, resolutions_metadata[j]['info']))"
   ]
  },
  {
   "cell_type": "code",
   "execution_count": null,
   "metadata": {},
   "outputs": [],
   "source": [
    "selected_resolution = int(input('select a resolution: '))\n",
    "print(f'selected: #{selected_resolution}')"
   ]
  },
  {
   "cell_type": "markdown",
   "metadata": {},
   "source": [
    "## 準備下載"
   ]
  },
  {
   "cell_type": "markdown",
   "metadata": {},
   "source": [
    "### 準備下載用的資料夾"
   ]
  },
  {
   "cell_type": "code",
   "execution_count": null,
   "metadata": {},
   "outputs": [],
   "source": [
    "resolution_number = resolutions_metadata[selected_resolution]['info'].rsplit('=', 1)[1]\n",
    "folder_name = f'{sn}_{resolution_number}'\n",
    "os.makedirs(os.path.join('Download', folder_name), exist_ok=True)\n",
    "os.chdir(os.path.join('Download', folder_name))"
   ]
  },
  {
   "cell_type": "markdown",
   "metadata": {},
   "source": [
    "### 取得第二層播放清單\n",
    "經由剝參數測試，這個資源也會檢查header"
   ]
  },
  {
   "cell_type": "code",
   "execution_count": null,
   "metadata": {},
   "outputs": [],
   "source": [
    "chunklist_url = meta_base + resolutions_metadata[selected_resolution]['url']\n",
    "print(chunklist_url)"
   ]
  },
  {
   "cell_type": "code",
   "execution_count": null,
   "metadata": {},
   "outputs": [],
   "source": [
    "chunklist_res = requests.get(chunklist_url, headers=header)\n",
    "print(chunklist_res.text)"
   ]
  },
  {
   "cell_type": "markdown",
   "metadata": {},
   "source": [
    "### 儲存m3u8至檔案"
   ]
  },
  {
   "cell_type": "code",
   "execution_count": null,
   "metadata": {},
   "outputs": [],
   "source": [
    "chunklist_filename = folder_name + '.m3u8'\n",
    "with open(chunklist_filename, 'wb') as chunklist_file:\n",
    "    for chunk in chunklist_res:\n",
    "        chunklist_file.write(chunk)"
   ]
  },
  {
   "cell_type": "markdown",
   "metadata": {},
   "source": [
    "### 分離出影片網址的base"
   ]
  },
  {
   "cell_type": "code",
   "execution_count": null,
   "metadata": {},
   "outputs": [],
   "source": [
    "chunks_base = meta_base + resolutions_metadata[selected_resolution]['url'].rsplit('/', 1)[0] + '/'\n",
    "print(chunks_base)"
   ]
  },
  {
   "cell_type": "markdown",
   "metadata": {},
   "source": [
    "#### 初始化多執行緒下載模組\n",
    "自己手刻的土炮多執行緒，但記得隊網站斯文一些才有禮貌，不要一傢伙榨乾對方頻寬"
   ]
  },
  {
   "cell_type": "code",
   "execution_count": null,
   "metadata": {},
   "outputs": [],
   "source": [
    "import multiple_thread_downloading\n",
    "chunklist = chunklist_res.text.split('\\n')\n",
    "mtd_worker = multiple_thread_downloading.mtd(header, chunks_base, chunklist_res.text.count('.ts'))"
   ]
  },
  {
   "cell_type": "markdown",
   "metadata": {},
   "source": [
    "#### 把.ts網址丟進queue\n",
    "裡面有key的檔案，也順便丟進去下載"
   ]
  },
  {
   "cell_type": "code",
   "execution_count": null,
   "metadata": {},
   "outputs": [],
   "source": [
    "import re\n",
    "\n",
    "for k in range(len(chunklist)):\n",
    "    line = chunklist[k]\n",
    "    if line.startswith('#EXTINF'):\n",
    "        ts_name = chunklist[k+1]\n",
    "        # push\n",
    "        mtd_worker.push(ts_name)\n",
    "    elif line.startswith('#EXT-X-KEY'):\n",
    "        key_name = re.match('.*URI=\"(.*)\".*$', line).group(1)\n",
    "        # push\n",
    "        mtd_worker.push(key_name)"
   ]
  },
  {
   "cell_type": "markdown",
   "metadata": {},
   "source": [
    "### 等待下載完成"
   ]
  },
  {
   "cell_type": "code",
   "execution_count": null,
   "metadata": {},
   "outputs": [],
   "source": [
    "mtd_worker.join()"
   ]
  },
  {
   "cell_type": "markdown",
   "metadata": {},
   "source": [
    "## 呼叫ffmpeg合併\n",
    "key在m3u8裡面有寫到，ffmpeg會自己解開加密的部分"
   ]
  },
  {
   "cell_type": "code",
   "execution_count": null,
   "metadata": {},
   "outputs": [],
   "source": [
    "command = f'ffmpeg -allowed_extensions ALL -i {chunklist_filename} -c copy {folder_name}.mp4'\n",
    "print(command)\n",
    "os.system(command)"
   ]
  }
 ],
 "metadata": {
  "kernelspec": {
   "display_name": "Python 3",
   "language": "python",
   "name": "python3"
  },
  "language_info": {
   "codemirror_mode": {
    "name": "ipython",
    "version": 3
   },
   "file_extension": ".py",
   "mimetype": "text/x-python",
   "name": "python",
   "nbconvert_exporter": "python",
   "pygments_lexer": "ipython3",
   "version": "3.11.4"
  }
 },
 "nbformat": 4,
 "nbformat_minor": 2
}
